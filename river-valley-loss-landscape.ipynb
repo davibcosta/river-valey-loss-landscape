{
 "cells": [
  {
   "cell_type": "code",
   "execution_count": null,
   "id": "e4226b8b",
   "metadata": {},
   "outputs": [
    {
     "name": "stdout",
     "output_type": "stream",
     "text": [
      "Defaulting to user installation because normal site-packages is not writeable\n",
      "Requirement already satisfied: huggingface_hub in /Users/davicosta/Library/Python/3.9/lib/python/site-packages (0.33.0)\n",
      "Requirement already satisfied: fsspec>=2023.5.0 in /Users/davicosta/Library/Python/3.9/lib/python/site-packages (from huggingface_hub) (2025.5.1)\n",
      "Requirement already satisfied: pyyaml>=5.1 in /Users/davicosta/Library/Python/3.9/lib/python/site-packages (from huggingface_hub) (6.0.2)\n",
      "Requirement already satisfied: tqdm>=4.42.1 in /Users/davicosta/Library/Python/3.9/lib/python/site-packages (from huggingface_hub) (4.67.1)\n",
      "Requirement already satisfied: requests in /Users/davicosta/Library/Python/3.9/lib/python/site-packages (from huggingface_hub) (2.32.4)\n",
      "Requirement already satisfied: typing-extensions>=3.7.4.3 in /Users/davicosta/Library/Python/3.9/lib/python/site-packages (from huggingface_hub) (4.14.0)\n",
      "Requirement already satisfied: hf-xet<2.0.0,>=1.1.2 in /Users/davicosta/Library/Python/3.9/lib/python/site-packages (from huggingface_hub) (1.1.4)\n",
      "Requirement already satisfied: packaging>=20.9 in /Users/davicosta/Library/Python/3.9/lib/python/site-packages (from huggingface_hub) (25.0)\n",
      "Requirement already satisfied: filelock in /Users/davicosta/Library/Python/3.9/lib/python/site-packages (from huggingface_hub) (3.18.0)\n",
      "Requirement already satisfied: idna<4,>=2.5 in /Users/davicosta/Library/Python/3.9/lib/python/site-packages (from requests->huggingface_hub) (3.10)\n",
      "Requirement already satisfied: charset_normalizer<4,>=2 in /Users/davicosta/Library/Python/3.9/lib/python/site-packages (from requests->huggingface_hub) (3.4.2)\n",
      "Requirement already satisfied: urllib3<3,>=1.21.1 in /Users/davicosta/Library/Python/3.9/lib/python/site-packages (from requests->huggingface_hub) (2.5.0)\n",
      "Requirement already satisfied: certifi>=2017.4.17 in /Users/davicosta/Library/Python/3.9/lib/python/site-packages (from requests->huggingface_hub) (2025.6.15)\n",
      "\u001b[33mWARNING: You are using pip version 21.2.4; however, version 25.1.1 is available.\n",
      "You should consider upgrading via the '/Library/Developer/CommandLineTools/usr/bin/python3 -m pip install --upgrade pip' command.\u001b[0m\n",
      "Note: you may need to restart the kernel to use updated packages.\n",
      "Defaulting to user installation because normal site-packages is not writeable\n",
      "Requirement already satisfied: torch in /Users/davicosta/Library/Python/3.9/lib/python/site-packages (2.7.1)\n",
      "Requirement already satisfied: jinja2 in /Users/davicosta/Library/Python/3.9/lib/python/site-packages (from torch) (3.1.6)\n",
      "Requirement already satisfied: networkx in /Users/davicosta/Library/Python/3.9/lib/python/site-packages (from torch) (3.2.1)\n",
      "Requirement already satisfied: fsspec in /Users/davicosta/Library/Python/3.9/lib/python/site-packages (from torch) (2025.5.1)\n",
      "Requirement already satisfied: typing-extensions>=4.10.0 in /Users/davicosta/Library/Python/3.9/lib/python/site-packages (from torch) (4.14.0)\n",
      "Requirement already satisfied: filelock in /Users/davicosta/Library/Python/3.9/lib/python/site-packages (from torch) (3.18.0)\n",
      "Requirement already satisfied: sympy>=1.13.3 in /Users/davicosta/Library/Python/3.9/lib/python/site-packages (from torch) (1.14.0)\n",
      "Requirement already satisfied: mpmath<1.4,>=1.1.0 in /Users/davicosta/Library/Python/3.9/lib/python/site-packages (from sympy>=1.13.3->torch) (1.3.0)\n",
      "Requirement already satisfied: MarkupSafe>=2.0 in /Users/davicosta/Library/Python/3.9/lib/python/site-packages (from jinja2->torch) (3.0.2)\n",
      "\u001b[33mWARNING: You are using pip version 21.2.4; however, version 25.1.1 is available.\n",
      "You should consider upgrading via the '/Library/Developer/CommandLineTools/usr/bin/python3 -m pip install --upgrade pip' command.\u001b[0m\n",
      "Note: you may need to restart the kernel to use updated packages.\n",
      "Defaulting to user installation because normal site-packages is not writeable\n",
      "Collecting transformers\n",
      "  Downloading transformers-4.52.4-py3-none-any.whl (10.5 MB)\n",
      "\u001b[K     |████████████████████████████████| 10.5 MB 11.1 MB/s eta 0:00:01\n",
      "\u001b[?25hRequirement already satisfied: tqdm>=4.27 in /Users/davicosta/Library/Python/3.9/lib/python/site-packages (from transformers) (4.67.1)\n",
      "Requirement already satisfied: packaging>=20.0 in /Users/davicosta/Library/Python/3.9/lib/python/site-packages (from transformers) (25.0)\n",
      "Requirement already satisfied: pyyaml>=5.1 in /Users/davicosta/Library/Python/3.9/lib/python/site-packages (from transformers) (6.0.2)\n",
      "Collecting tokenizers<0.22,>=0.21\n",
      "  Downloading tokenizers-0.21.1-cp39-abi3-macosx_11_0_arm64.whl (2.7 MB)\n",
      "\u001b[K     |████████████████████████████████| 2.7 MB 11.2 MB/s eta 0:00:01\n",
      "\u001b[?25hRequirement already satisfied: huggingface-hub<1.0,>=0.30.0 in /Users/davicosta/Library/Python/3.9/lib/python/site-packages (from transformers) (0.33.0)\n",
      "Requirement already satisfied: requests in /Users/davicosta/Library/Python/3.9/lib/python/site-packages (from transformers) (2.32.4)\n",
      "Collecting regex!=2019.12.17\n",
      "  Downloading regex-2024.11.6-cp39-cp39-macosx_11_0_arm64.whl (284 kB)\n",
      "\u001b[K     |████████████████████████████████| 284 kB 10.8 MB/s eta 0:00:01\n",
      "\u001b[?25hRequirement already satisfied: numpy>=1.17 in /Users/davicosta/Library/Python/3.9/lib/python/site-packages (from transformers) (2.0.2)\n",
      "Requirement already satisfied: filelock in /Users/davicosta/Library/Python/3.9/lib/python/site-packages (from transformers) (3.18.0)\n",
      "Collecting safetensors>=0.4.3\n",
      "  Downloading safetensors-0.5.3-cp38-abi3-macosx_11_0_arm64.whl (418 kB)\n",
      "\u001b[K     |████████████████████████████████| 418 kB 11.3 MB/s eta 0:00:01\n",
      "\u001b[?25hRequirement already satisfied: hf-xet<2.0.0,>=1.1.2 in /Users/davicosta/Library/Python/3.9/lib/python/site-packages (from huggingface-hub<1.0,>=0.30.0->transformers) (1.1.4)\n",
      "Requirement already satisfied: typing-extensions>=3.7.4.3 in /Users/davicosta/Library/Python/3.9/lib/python/site-packages (from huggingface-hub<1.0,>=0.30.0->transformers) (4.14.0)\n",
      "Requirement already satisfied: fsspec>=2023.5.0 in /Users/davicosta/Library/Python/3.9/lib/python/site-packages (from huggingface-hub<1.0,>=0.30.0->transformers) (2025.5.1)\n",
      "Requirement already satisfied: idna<4,>=2.5 in /Users/davicosta/Library/Python/3.9/lib/python/site-packages (from requests->transformers) (3.10)\n",
      "Requirement already satisfied: certifi>=2017.4.17 in /Users/davicosta/Library/Python/3.9/lib/python/site-packages (from requests->transformers) (2025.6.15)\n",
      "Requirement already satisfied: charset_normalizer<4,>=2 in /Users/davicosta/Library/Python/3.9/lib/python/site-packages (from requests->transformers) (3.4.2)\n",
      "Requirement already satisfied: urllib3<3,>=1.21.1 in /Users/davicosta/Library/Python/3.9/lib/python/site-packages (from requests->transformers) (2.5.0)\n",
      "Installing collected packages: tokenizers, safetensors, regex, transformers\n",
      "Successfully installed regex-2024.11.6 safetensors-0.5.3 tokenizers-0.21.1 transformers-4.52.4\n",
      "\u001b[33mWARNING: You are using pip version 21.2.4; however, version 25.1.1 is available.\n",
      "You should consider upgrading via the '/Library/Developer/CommandLineTools/usr/bin/python3 -m pip install --upgrade pip' command.\u001b[0m\n",
      "Note: you may need to restart the kernel to use updated packages.\n"
     ]
    }
   ],
   "source": [
    "%pip install huggingface_hub\n",
    "%pip install torch\n",
    "%pip install transformers"
   ]
  },
  {
   "cell_type": "code",
   "execution_count": 1,
   "id": "ed7a2259",
   "metadata": {},
   "outputs": [
    {
     "name": "stderr",
     "output_type": "stream",
     "text": [
      "/Users/davicosta/Library/Python/3.9/lib/python/site-packages/urllib3/__init__.py:35: NotOpenSSLWarning: urllib3 v2 only supports OpenSSL 1.1.1+, currently the 'ssl' module is compiled with 'LibreSSL 2.8.3'. See: https://github.com/urllib3/urllib3/issues/3020\n",
      "  warnings.warn(\n",
      "/Users/davicosta/Library/Python/3.9/lib/python/site-packages/tqdm/auto.py:21: TqdmWarning: IProgress not found. Please update jupyter and ipywidgets. See https://ipywidgets.readthedocs.io/en/stable/user_install.html\n",
      "  from .autonotebook import tqdm as notebook_tqdm\n"
     ]
    }
   ],
   "source": [
    "import torch\n",
    "from huggingface_hub import snapshot_download\n",
    "from transformers import AutoModelForCausalLM\n",
    "\n",
    "def model_step(step: int,\n",
    "               dtype: torch.dtype = torch.float32,\n",
    "               device: str = \"cpu\") -> torch.nn.Module:\n",
    "    \"\"\"\n",
    "    Downloads EleutherAI/pythia-1b@step{step} into HF cache (~/.cache/...)\n",
    "    and returns a ready-to-use model.\n",
    "    \"\"\"\n",
    "    repo_id  = \"EleutherAI/pythia-1b\"\n",
    "    revision = f\"step{step}\"\n",
    "    # no os.makedirs, no base_dir\n",
    "    local_dir = snapshot_download(\n",
    "        repo_id=repo_id,\n",
    "        revision=revision,\n",
    "        # local_dir and cache_dir omitted → use default cache\n",
    "    )\n",
    "    model = AutoModelForCausalLM.from_pretrained(local_dir, torch_dtype=dtype)\n",
    "    model.to(device)\n",
    "    model.eval()\n",
    "    return model"
   ]
  },
  {
   "cell_type": "code",
   "execution_count": 2,
   "id": "7710125c",
   "metadata": {},
   "outputs": [
    {
     "name": "stderr",
     "output_type": "stream",
     "text": [
      "Fetching 6 files: 100%|██████████| 6/6 [02:56<00:00, 29.38s/it]\n"
     ]
    },
    {
     "name": "stdout",
     "output_type": "stream",
     "text": [
      "GPTNeoXForCausalLM(\n",
      "  (gpt_neox): GPTNeoXModel(\n",
      "    (embed_in): Embedding(50304, 2048)\n",
      "    (emb_dropout): Dropout(p=0.0, inplace=False)\n",
      "    (layers): ModuleList(\n",
      "      (0-15): 16 x GPTNeoXLayer(\n",
      "        (input_layernorm): LayerNorm((2048,), eps=1e-05, elementwise_affine=True)\n",
      "        (post_attention_layernorm): LayerNorm((2048,), eps=1e-05, elementwise_affine=True)\n",
      "        (post_attention_dropout): Dropout(p=0.0, inplace=False)\n",
      "        (post_mlp_dropout): Dropout(p=0.0, inplace=False)\n",
      "        (attention): GPTNeoXAttention(\n",
      "          (query_key_value): Linear(in_features=2048, out_features=6144, bias=True)\n",
      "          (dense): Linear(in_features=2048, out_features=2048, bias=True)\n",
      "        )\n",
      "        (mlp): GPTNeoXMLP(\n",
      "          (dense_h_to_4h): Linear(in_features=2048, out_features=8192, bias=True)\n",
      "          (dense_4h_to_h): Linear(in_features=8192, out_features=2048, bias=True)\n",
      "          (act): GELUActivation()\n",
      "        )\n",
      "      )\n",
      "    )\n",
      "    (final_layer_norm): LayerNorm((2048,), eps=1e-05, elementwise_affine=True)\n",
      "    (rotary_emb): GPTNeoXRotaryEmbedding()\n",
      "  )\n",
      "  (embed_out): Linear(in_features=2048, out_features=50304, bias=False)\n",
      ")\n"
     ]
    }
   ],
   "source": [
    "step = 1000\n",
    "model = model_step(step)\n",
    "print(model)"
   ]
  },
  {
   "cell_type": "code",
   "execution_count": 6,
   "id": "ccafac0c",
   "metadata": {},
   "outputs": [
    {
     "name": "stderr",
     "output_type": "stream",
     "text": [
      "huggingface/tokenizers: The current process just got forked, after parallelism has already been used. Disabling parallelism to avoid deadlocks...\n",
      "To disable this warning, you can either:\n",
      "\t- Avoid using `tokenizers` before the fork if possible\n",
      "\t- Explicitly set the environment variable TOKENIZERS_PARALLELISM=(true | false)\n"
     ]
    },
    {
     "name": "stdout",
     "output_type": "stream",
     "text": [
      "Defaulting to user installation because normal site-packages is not writeable\n",
      "Collecting pyhessian\n",
      "  Downloading PyHessian-0.1-py3-none-any.whl (6.8 kB)\n",
      "Requirement already satisfied: torch in /Users/davicosta/Library/Python/3.9/lib/python/site-packages (from pyhessian) (2.7.1)\n",
      "Requirement already satisfied: numpy in /Users/davicosta/Library/Python/3.9/lib/python/site-packages (from pyhessian) (2.0.2)\n",
      "Requirement already satisfied: jinja2 in /Users/davicosta/Library/Python/3.9/lib/python/site-packages (from torch->pyhessian) (3.1.6)\n",
      "Requirement already satisfied: networkx in /Users/davicosta/Library/Python/3.9/lib/python/site-packages (from torch->pyhessian) (3.2.1)\n",
      "Requirement already satisfied: filelock in /Users/davicosta/Library/Python/3.9/lib/python/site-packages (from torch->pyhessian) (3.18.0)\n",
      "Requirement already satisfied: typing-extensions>=4.10.0 in /Users/davicosta/Library/Python/3.9/lib/python/site-packages (from torch->pyhessian) (4.14.0)\n",
      "Requirement already satisfied: sympy>=1.13.3 in /Users/davicosta/Library/Python/3.9/lib/python/site-packages (from torch->pyhessian) (1.14.0)\n",
      "Requirement already satisfied: fsspec in /Users/davicosta/Library/Python/3.9/lib/python/site-packages (from torch->pyhessian) (2025.5.1)\n",
      "Requirement already satisfied: mpmath<1.4,>=1.1.0 in /Users/davicosta/Library/Python/3.9/lib/python/site-packages (from sympy>=1.13.3->torch->pyhessian) (1.3.0)\n",
      "Requirement already satisfied: MarkupSafe>=2.0 in /Users/davicosta/Library/Python/3.9/lib/python/site-packages (from jinja2->torch->pyhessian) (3.0.2)\n",
      "Installing collected packages: pyhessian\n",
      "Successfully installed pyhessian-0.1\n",
      "\u001b[33mWARNING: You are using pip version 21.2.4; however, version 25.1.1 is available.\n",
      "You should consider upgrading via the '/Library/Developer/CommandLineTools/usr/bin/python3 -m pip install --upgrade pip' command.\u001b[0m\n",
      "Note: you may need to restart the kernel to use updated packages.\n"
     ]
    }
   ],
   "source": [
    "%pip install pyhessian"
   ]
  },
  {
   "cell_type": "code",
   "execution_count": null,
   "id": "eb084701",
   "metadata": {},
   "outputs": [],
   "source": []
  }
 ],
 "metadata": {
  "kernelspec": {
   "display_name": "Python 3",
   "language": "python",
   "name": "python3"
  },
  "language_info": {
   "codemirror_mode": {
    "name": "ipython",
    "version": 3
   },
   "file_extension": ".py",
   "mimetype": "text/x-python",
   "name": "python",
   "nbconvert_exporter": "python",
   "pygments_lexer": "ipython3",
   "version": "3.9.6"
  }
 },
 "nbformat": 4,
 "nbformat_minor": 5
}
